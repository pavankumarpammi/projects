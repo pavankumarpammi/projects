{
  "nbformat": 4,
  "nbformat_minor": 0,
  "metadata": {
    "colab": {
      "provenance": [],
      "authorship_tag": "ABX9TyMnPR3T8t+99DtAgMutUiQV",
      "include_colab_link": true
    },
    "kernelspec": {
      "name": "python3",
      "display_name": "Python 3"
    },
    "language_info": {
      "name": "python"
    }
  },
  "cells": [
    {
      "cell_type": "markdown",
      "metadata": {
        "id": "view-in-github",
        "colab_type": "text"
      },
      "source": [
        "<a href=\"https://colab.research.google.com/github/pavankumarpammi/projects/blob/main/Mini_project_1.ipynb\" target=\"_parent\"><img src=\"https://colab.research.google.com/assets/colab-badge.svg\" alt=\"Open In Colab\"/></a>"
      ]
    },
    {
      "cell_type": "code",
      "execution_count": 1,
      "metadata": {
        "colab": {
          "base_uri": "https://localhost:8080/",
          "height": 956
        },
        "id": "BRYuLpCrFIZe",
        "outputId": "10bed6f6-933a-44f9-beae-bcfa9e367da5"
      },
      "outputs": [
        {
          "output_type": "execute_result",
          "data": {
            "text/plain": [
              "     S.No Year Branch    Roll No                        Tittle  \\\n",
              "0       1   II    CSE  21A31A0503            RPA by Blue Prism   \n",
              "1       2   II    CSE  21A31A0512            RPA by Blue Prism   \n",
              "2       3   II    CSE  21A31A0513            RPA by Blue Prism   \n",
              "3       4   II    CSE  21A31A0518            RPA by Blue Prism   \n",
              "4       5   II    CSE  21A31A0519  Cyber Security by Palo Alto   \n",
              "..    ...  ...    ...         ...                          ...   \n",
              "883   884   IV    EEE  19A31A02B2  Cyber Security by Palo Alto   \n",
              "884   885   IV     IT  19A31A1254  Cyber Security by Palo Alto   \n",
              "885   886   IV   Mech  19A31A0382  Cyber Security by Palo Alto   \n",
              "886   887   IV   Mech  19A31A03E6  Cyber Security by Palo Alto   \n",
              "887   888   IV   Mech  19A31A03H0  Cyber Security by Palo Alto   \n",
              "\n",
              "               First Name Middle Name    Last Name  \\\n",
              "0    VENKATA DURGA SOWMYA         NaN  BOGGAVARAPU   \n",
              "1               PRASANTHI         NaN    KANCHARLA   \n",
              "2            VENKATESWARI         NaN     KARNEEDI   \n",
              "3                   SATYA   TEJASWINI      KOVVURI   \n",
              "4              EVANGELINE         NaN      MADDELA   \n",
              "..                    ...         ...          ...   \n",
              "883                  SIVA         NaN  YARRAMNEEDI   \n",
              "884            SAI HARSHA         NaN   KONDAVEETI   \n",
              "885                MAHESH         NaN  PANCHIREDDI   \n",
              "886            AYINAVILLI         SAI       DINESH   \n",
              "887     VINAY VENKATA SAI       PAVAN         OLLI   \n",
              "\n",
              "                 Student Course                          Student Stream  \\\n",
              "0    B.Tech. / B.E./ Equivalent        Computer Science and Engineering   \n",
              "1                 B.Plan/B.Tech                    Environment Planning   \n",
              "2    B.Tech. / B.E./ Equivalent        Computer Science and Engineering   \n",
              "3    B.Tech. / B.E./ Equivalent        Computer Science and Engineering   \n",
              "4                B.Tech. / B.E.        Computer Science and Engineering   \n",
              "..                          ...                                     ...   \n",
              "883              B.Tech. / B.E.  Electrical and Electronics Engineering   \n",
              "884              B.Tech. / B.E.                  Information Technology   \n",
              "885              B.Tech. / B.E.                  Mechanical Engineering   \n",
              "886              B.Tech. / B.E.                  Mechanical Engineering   \n",
              "887  B.Tech. / B.E./ Equivalent                  Mechanical Engineering   \n",
              "\n",
              "     Unnamed: 10  Unnamed: 11 Student Caste Student First Location  \\\n",
              "0            NaN          NaN           EWS          EAST GODAVARI   \n",
              "1            NaN          NaN           EWS          EAST GODAVARI   \n",
              "2            NaN          NaN           EWS          EAST GODAVARI   \n",
              "3            NaN          NaN           EWS          EAST GODAVARI   \n",
              "4            NaN          NaN       GENERAL            RAJAHMUNDRY   \n",
              "..           ...          ...           ...                    ...   \n",
              "883          NaN          NaN       GENERAL            BHADRAVARAM   \n",
              "884          NaN          NaN           EWS        BANGALORE URBAN   \n",
              "885          NaN          NaN           OBC               KAKINADA   \n",
              "886          NaN          NaN           OBC         ANDHRA PRADESH   \n",
              "887          NaN          NaN           OBC          EAST GODAVARI   \n",
              "\n",
              "    Student Second Location Student Third Location Student Fourth Location  \n",
              "0                  KAKINADA                    NaN                     NaN  \n",
              "1                    GUNTUR             VIJAYAWADA                KAKINADA  \n",
              "2             WEST GODAVARI                    NaN                     NaN  \n",
              "3                  KAKINADA                    NaN                     NaN  \n",
              "4                  KAKINADA          VISAKHAPATNAM              VIJAYAWADA  \n",
              "..                      ...                    ...                     ...  \n",
              "883              YELESWARAM                    NaN                     NaN  \n",
              "884               HYDERABAD                CHENNAI         BANGALORE RURAL  \n",
              "885           VISHAKAPATNAM              HYDERABAD                     NaN  \n",
              "886           EAST GODAVARI               KAKINADA           RAMANAYYAPETA  \n",
              "887               HYDERABAD          VISAKHAPATNAM                     NaN  \n",
              "\n",
              "[888 rows x 17 columns]"
            ],
            "text/html": [
              "\n",
              "  <div id=\"df-db92b92f-d945-465a-bea7-4a367b3652a0\">\n",
              "    <div class=\"colab-df-container\">\n",
              "      <div>\n",
              "<style scoped>\n",
              "    .dataframe tbody tr th:only-of-type {\n",
              "        vertical-align: middle;\n",
              "    }\n",
              "\n",
              "    .dataframe tbody tr th {\n",
              "        vertical-align: top;\n",
              "    }\n",
              "\n",
              "    .dataframe thead th {\n",
              "        text-align: right;\n",
              "    }\n",
              "</style>\n",
              "<table border=\"1\" class=\"dataframe\">\n",
              "  <thead>\n",
              "    <tr style=\"text-align: right;\">\n",
              "      <th></th>\n",
              "      <th>S.No</th>\n",
              "      <th>Year</th>\n",
              "      <th>Branch</th>\n",
              "      <th>Roll No</th>\n",
              "      <th>Tittle</th>\n",
              "      <th>First Name</th>\n",
              "      <th>Middle Name</th>\n",
              "      <th>Last Name</th>\n",
              "      <th>Student Course</th>\n",
              "      <th>Student Stream</th>\n",
              "      <th>Unnamed: 10</th>\n",
              "      <th>Unnamed: 11</th>\n",
              "      <th>Student Caste</th>\n",
              "      <th>Student First Location</th>\n",
              "      <th>Student Second Location</th>\n",
              "      <th>Student Third Location</th>\n",
              "      <th>Student Fourth Location</th>\n",
              "    </tr>\n",
              "  </thead>\n",
              "  <tbody>\n",
              "    <tr>\n",
              "      <th>0</th>\n",
              "      <td>1</td>\n",
              "      <td>II</td>\n",
              "      <td>CSE</td>\n",
              "      <td>21A31A0503</td>\n",
              "      <td>RPA by Blue Prism</td>\n",
              "      <td>VENKATA DURGA SOWMYA</td>\n",
              "      <td>NaN</td>\n",
              "      <td>BOGGAVARAPU</td>\n",
              "      <td>B.Tech. / B.E./ Equivalent</td>\n",
              "      <td>Computer Science and Engineering</td>\n",
              "      <td>NaN</td>\n",
              "      <td>NaN</td>\n",
              "      <td>EWS</td>\n",
              "      <td>EAST GODAVARI</td>\n",
              "      <td>KAKINADA</td>\n",
              "      <td>NaN</td>\n",
              "      <td>NaN</td>\n",
              "    </tr>\n",
              "    <tr>\n",
              "      <th>1</th>\n",
              "      <td>2</td>\n",
              "      <td>II</td>\n",
              "      <td>CSE</td>\n",
              "      <td>21A31A0512</td>\n",
              "      <td>RPA by Blue Prism</td>\n",
              "      <td>PRASANTHI</td>\n",
              "      <td>NaN</td>\n",
              "      <td>KANCHARLA</td>\n",
              "      <td>B.Plan/B.Tech</td>\n",
              "      <td>Environment Planning</td>\n",
              "      <td>NaN</td>\n",
              "      <td>NaN</td>\n",
              "      <td>EWS</td>\n",
              "      <td>EAST GODAVARI</td>\n",
              "      <td>GUNTUR</td>\n",
              "      <td>VIJAYAWADA</td>\n",
              "      <td>KAKINADA</td>\n",
              "    </tr>\n",
              "    <tr>\n",
              "      <th>2</th>\n",
              "      <td>3</td>\n",
              "      <td>II</td>\n",
              "      <td>CSE</td>\n",
              "      <td>21A31A0513</td>\n",
              "      <td>RPA by Blue Prism</td>\n",
              "      <td>VENKATESWARI</td>\n",
              "      <td>NaN</td>\n",
              "      <td>KARNEEDI</td>\n",
              "      <td>B.Tech. / B.E./ Equivalent</td>\n",
              "      <td>Computer Science and Engineering</td>\n",
              "      <td>NaN</td>\n",
              "      <td>NaN</td>\n",
              "      <td>EWS</td>\n",
              "      <td>EAST GODAVARI</td>\n",
              "      <td>WEST GODAVARI</td>\n",
              "      <td>NaN</td>\n",
              "      <td>NaN</td>\n",
              "    </tr>\n",
              "    <tr>\n",
              "      <th>3</th>\n",
              "      <td>4</td>\n",
              "      <td>II</td>\n",
              "      <td>CSE</td>\n",
              "      <td>21A31A0518</td>\n",
              "      <td>RPA by Blue Prism</td>\n",
              "      <td>SATYA</td>\n",
              "      <td>TEJASWINI</td>\n",
              "      <td>KOVVURI</td>\n",
              "      <td>B.Tech. / B.E./ Equivalent</td>\n",
              "      <td>Computer Science and Engineering</td>\n",
              "      <td>NaN</td>\n",
              "      <td>NaN</td>\n",
              "      <td>EWS</td>\n",
              "      <td>EAST GODAVARI</td>\n",
              "      <td>KAKINADA</td>\n",
              "      <td>NaN</td>\n",
              "      <td>NaN</td>\n",
              "    </tr>\n",
              "    <tr>\n",
              "      <th>4</th>\n",
              "      <td>5</td>\n",
              "      <td>II</td>\n",
              "      <td>CSE</td>\n",
              "      <td>21A31A0519</td>\n",
              "      <td>Cyber Security by Palo Alto</td>\n",
              "      <td>EVANGELINE</td>\n",
              "      <td>NaN</td>\n",
              "      <td>MADDELA</td>\n",
              "      <td>B.Tech. / B.E.</td>\n",
              "      <td>Computer Science and Engineering</td>\n",
              "      <td>NaN</td>\n",
              "      <td>NaN</td>\n",
              "      <td>GENERAL</td>\n",
              "      <td>RAJAHMUNDRY</td>\n",
              "      <td>KAKINADA</td>\n",
              "      <td>VISAKHAPATNAM</td>\n",
              "      <td>VIJAYAWADA</td>\n",
              "    </tr>\n",
              "    <tr>\n",
              "      <th>...</th>\n",
              "      <td>...</td>\n",
              "      <td>...</td>\n",
              "      <td>...</td>\n",
              "      <td>...</td>\n",
              "      <td>...</td>\n",
              "      <td>...</td>\n",
              "      <td>...</td>\n",
              "      <td>...</td>\n",
              "      <td>...</td>\n",
              "      <td>...</td>\n",
              "      <td>...</td>\n",
              "      <td>...</td>\n",
              "      <td>...</td>\n",
              "      <td>...</td>\n",
              "      <td>...</td>\n",
              "      <td>...</td>\n",
              "      <td>...</td>\n",
              "    </tr>\n",
              "    <tr>\n",
              "      <th>883</th>\n",
              "      <td>884</td>\n",
              "      <td>IV</td>\n",
              "      <td>EEE</td>\n",
              "      <td>19A31A02B2</td>\n",
              "      <td>Cyber Security by Palo Alto</td>\n",
              "      <td>SIVA</td>\n",
              "      <td>NaN</td>\n",
              "      <td>YARRAMNEEDI</td>\n",
              "      <td>B.Tech. / B.E.</td>\n",
              "      <td>Electrical and Electronics Engineering</td>\n",
              "      <td>NaN</td>\n",
              "      <td>NaN</td>\n",
              "      <td>GENERAL</td>\n",
              "      <td>BHADRAVARAM</td>\n",
              "      <td>YELESWARAM</td>\n",
              "      <td>NaN</td>\n",
              "      <td>NaN</td>\n",
              "    </tr>\n",
              "    <tr>\n",
              "      <th>884</th>\n",
              "      <td>885</td>\n",
              "      <td>IV</td>\n",
              "      <td>IT</td>\n",
              "      <td>19A31A1254</td>\n",
              "      <td>Cyber Security by Palo Alto</td>\n",
              "      <td>SAI HARSHA</td>\n",
              "      <td>NaN</td>\n",
              "      <td>KONDAVEETI</td>\n",
              "      <td>B.Tech. / B.E.</td>\n",
              "      <td>Information Technology</td>\n",
              "      <td>NaN</td>\n",
              "      <td>NaN</td>\n",
              "      <td>EWS</td>\n",
              "      <td>BANGALORE URBAN</td>\n",
              "      <td>HYDERABAD</td>\n",
              "      <td>CHENNAI</td>\n",
              "      <td>BANGALORE RURAL</td>\n",
              "    </tr>\n",
              "    <tr>\n",
              "      <th>885</th>\n",
              "      <td>886</td>\n",
              "      <td>IV</td>\n",
              "      <td>Mech</td>\n",
              "      <td>19A31A0382</td>\n",
              "      <td>Cyber Security by Palo Alto</td>\n",
              "      <td>MAHESH</td>\n",
              "      <td>NaN</td>\n",
              "      <td>PANCHIREDDI</td>\n",
              "      <td>B.Tech. / B.E.</td>\n",
              "      <td>Mechanical Engineering</td>\n",
              "      <td>NaN</td>\n",
              "      <td>NaN</td>\n",
              "      <td>OBC</td>\n",
              "      <td>KAKINADA</td>\n",
              "      <td>VISHAKAPATNAM</td>\n",
              "      <td>HYDERABAD</td>\n",
              "      <td>NaN</td>\n",
              "    </tr>\n",
              "    <tr>\n",
              "      <th>886</th>\n",
              "      <td>887</td>\n",
              "      <td>IV</td>\n",
              "      <td>Mech</td>\n",
              "      <td>19A31A03E6</td>\n",
              "      <td>Cyber Security by Palo Alto</td>\n",
              "      <td>AYINAVILLI</td>\n",
              "      <td>SAI</td>\n",
              "      <td>DINESH</td>\n",
              "      <td>B.Tech. / B.E.</td>\n",
              "      <td>Mechanical Engineering</td>\n",
              "      <td>NaN</td>\n",
              "      <td>NaN</td>\n",
              "      <td>OBC</td>\n",
              "      <td>ANDHRA PRADESH</td>\n",
              "      <td>EAST GODAVARI</td>\n",
              "      <td>KAKINADA</td>\n",
              "      <td>RAMANAYYAPETA</td>\n",
              "    </tr>\n",
              "    <tr>\n",
              "      <th>887</th>\n",
              "      <td>888</td>\n",
              "      <td>IV</td>\n",
              "      <td>Mech</td>\n",
              "      <td>19A31A03H0</td>\n",
              "      <td>Cyber Security by Palo Alto</td>\n",
              "      <td>VINAY VENKATA SAI</td>\n",
              "      <td>PAVAN</td>\n",
              "      <td>OLLI</td>\n",
              "      <td>B.Tech. / B.E./ Equivalent</td>\n",
              "      <td>Mechanical Engineering</td>\n",
              "      <td>NaN</td>\n",
              "      <td>NaN</td>\n",
              "      <td>OBC</td>\n",
              "      <td>EAST GODAVARI</td>\n",
              "      <td>HYDERABAD</td>\n",
              "      <td>VISAKHAPATNAM</td>\n",
              "      <td>NaN</td>\n",
              "    </tr>\n",
              "  </tbody>\n",
              "</table>\n",
              "<p>888 rows × 17 columns</p>\n",
              "</div>\n",
              "      <button class=\"colab-df-convert\" onclick=\"convertToInteractive('df-db92b92f-d945-465a-bea7-4a367b3652a0')\"\n",
              "              title=\"Convert this dataframe to an interactive table.\"\n",
              "              style=\"display:none;\">\n",
              "        \n",
              "  <svg xmlns=\"http://www.w3.org/2000/svg\" height=\"24px\"viewBox=\"0 0 24 24\"\n",
              "       width=\"24px\">\n",
              "    <path d=\"M0 0h24v24H0V0z\" fill=\"none\"/>\n",
              "    <path d=\"M18.56 5.44l.94 2.06.94-2.06 2.06-.94-2.06-.94-.94-2.06-.94 2.06-2.06.94zm-11 1L8.5 8.5l.94-2.06 2.06-.94-2.06-.94L8.5 2.5l-.94 2.06-2.06.94zm10 10l.94 2.06.94-2.06 2.06-.94-2.06-.94-.94-2.06-.94 2.06-2.06.94z\"/><path d=\"M17.41 7.96l-1.37-1.37c-.4-.4-.92-.59-1.43-.59-.52 0-1.04.2-1.43.59L10.3 9.45l-7.72 7.72c-.78.78-.78 2.05 0 2.83L4 21.41c.39.39.9.59 1.41.59.51 0 1.02-.2 1.41-.59l7.78-7.78 2.81-2.81c.8-.78.8-2.07 0-2.86zM5.41 20L4 18.59l7.72-7.72 1.47 1.35L5.41 20z\"/>\n",
              "  </svg>\n",
              "      </button>\n",
              "      \n",
              "  <style>\n",
              "    .colab-df-container {\n",
              "      display:flex;\n",
              "      flex-wrap:wrap;\n",
              "      gap: 12px;\n",
              "    }\n",
              "\n",
              "    .colab-df-convert {\n",
              "      background-color: #E8F0FE;\n",
              "      border: none;\n",
              "      border-radius: 50%;\n",
              "      cursor: pointer;\n",
              "      display: none;\n",
              "      fill: #1967D2;\n",
              "      height: 32px;\n",
              "      padding: 0 0 0 0;\n",
              "      width: 32px;\n",
              "    }\n",
              "\n",
              "    .colab-df-convert:hover {\n",
              "      background-color: #E2EBFA;\n",
              "      box-shadow: 0px 1px 2px rgba(60, 64, 67, 0.3), 0px 1px 3px 1px rgba(60, 64, 67, 0.15);\n",
              "      fill: #174EA6;\n",
              "    }\n",
              "\n",
              "    [theme=dark] .colab-df-convert {\n",
              "      background-color: #3B4455;\n",
              "      fill: #D2E3FC;\n",
              "    }\n",
              "\n",
              "    [theme=dark] .colab-df-convert:hover {\n",
              "      background-color: #434B5C;\n",
              "      box-shadow: 0px 1px 3px 1px rgba(0, 0, 0, 0.15);\n",
              "      filter: drop-shadow(0px 1px 2px rgba(0, 0, 0, 0.3));\n",
              "      fill: #FFFFFF;\n",
              "    }\n",
              "  </style>\n",
              "\n",
              "      <script>\n",
              "        const buttonEl =\n",
              "          document.querySelector('#df-db92b92f-d945-465a-bea7-4a367b3652a0 button.colab-df-convert');\n",
              "        buttonEl.style.display =\n",
              "          google.colab.kernel.accessAllowed ? 'block' : 'none';\n",
              "\n",
              "        async function convertToInteractive(key) {\n",
              "          const element = document.querySelector('#df-db92b92f-d945-465a-bea7-4a367b3652a0');\n",
              "          const dataTable =\n",
              "            await google.colab.kernel.invokeFunction('convertToInteractive',\n",
              "                                                     [key], {});\n",
              "          if (!dataTable) return;\n",
              "\n",
              "          const docLinkHtml = 'Like what you see? Visit the ' +\n",
              "            '<a target=\"_blank\" href=https://colab.research.google.com/notebooks/data_table.ipynb>data table notebook</a>'\n",
              "            + ' to learn more about interactive tables.';\n",
              "          element.innerHTML = '';\n",
              "          dataTable['output_type'] = 'display_data';\n",
              "          await google.colab.output.renderOutput(dataTable, element);\n",
              "          const docLink = document.createElement('div');\n",
              "          docLink.innerHTML = docLinkHtml;\n",
              "          element.appendChild(docLink);\n",
              "        }\n",
              "      </script>\n",
              "    </div>\n",
              "  </div>\n",
              "  "
            ]
          },
          "metadata": {},
          "execution_count": 1
        }
      ],
      "source": [
        "import pandas as pd\n",
        "df=pd.read_csv('/content/Students list.csv')\n",
        "df"
      ]
    },
    {
      "cell_type": "code",
      "source": [
        "df.info()"
      ],
      "metadata": {
        "colab": {
          "base_uri": "https://localhost:8080/"
        },
        "id": "YhvlyKwkFZ3T",
        "outputId": "c8c8a50d-da4d-44db-a9ca-787bd937e83d"
      },
      "execution_count": 2,
      "outputs": [
        {
          "output_type": "stream",
          "name": "stdout",
          "text": [
            "<class 'pandas.core.frame.DataFrame'>\n",
            "RangeIndex: 888 entries, 0 to 887\n",
            "Data columns (total 17 columns):\n",
            " #   Column                   Non-Null Count  Dtype  \n",
            "---  ------                   --------------  -----  \n",
            " 0   S.No                     888 non-null    int64  \n",
            " 1   Year                     888 non-null    object \n",
            " 2   Branch                   888 non-null    object \n",
            " 3   Roll No                  888 non-null    object \n",
            " 4   Tittle                   888 non-null    object \n",
            " 5   First Name               888 non-null    object \n",
            " 6   Middle Name              601 non-null    object \n",
            " 7   Last Name                803 non-null    object \n",
            " 8   Student Course           888 non-null    object \n",
            " 9   Student Stream           888 non-null    object \n",
            " 10  Unnamed: 10              0 non-null      float64\n",
            " 11  Unnamed: 11              0 non-null      float64\n",
            " 12  Student Caste            817 non-null    object \n",
            " 13  Student First Location   888 non-null    object \n",
            " 14  Student Second Location  888 non-null    object \n",
            " 15  Student Third Location   515 non-null    object \n",
            " 16  Student Fourth Location  436 non-null    object \n",
            "dtypes: float64(2), int64(1), object(14)\n",
            "memory usage: 118.1+ KB\n"
          ]
        }
      ]
    },
    {
      "cell_type": "code",
      "source": [
        "df.groupby('Tittle').size()"
      ],
      "metadata": {
        "colab": {
          "base_uri": "https://localhost:8080/"
        },
        "id": "zxaLecTDFhT3",
        "outputId": "6f0240f1-0dde-4533-8efa-3c3a12cf19fd"
      },
      "execution_count": 3,
      "outputs": [
        {
          "output_type": "execute_result",
          "data": {
            "text/plain": [
              "Tittle\n",
              "Cyber Security by Palo Alto    378\n",
              "Process Mining By Celonis      427\n",
              "RPA by Blue Prism               83\n",
              "dtype: int64"
            ]
          },
          "metadata": {},
          "execution_count": 3
        }
      ]
    },
    {
      "cell_type": "code",
      "source": [
        "\n",
        "import seaborn as sns\n",
        "sns.countplot(df['Tittle'])\n"
      ],
      "metadata": {
        "colab": {
          "base_uri": "https://localhost:8080/",
          "height": 351
        },
        "id": "0KYlZKlgIDV5",
        "outputId": "0f370bfd-fb23-443e-9370-f5f77fefeeb1"
      },
      "execution_count": 4,
      "outputs": [
        {
          "output_type": "stream",
          "name": "stderr",
          "text": [
            "/usr/local/lib/python3.7/dist-packages/seaborn/_decorators.py:43: FutureWarning: Pass the following variable as a keyword arg: x. From version 0.12, the only valid positional argument will be `data`, and passing other arguments without an explicit keyword will result in an error or misinterpretation.\n",
            "  FutureWarning\n"
          ]
        },
        {
          "output_type": "execute_result",
          "data": {
            "text/plain": [
              "<matplotlib.axes._subplots.AxesSubplot at 0x7f10a5a13190>"
            ]
          },
          "metadata": {},
          "execution_count": 4
        },
        {
          "output_type": "display_data",
          "data": {
            "text/plain": [
              "<Figure size 432x288 with 1 Axes>"
            ],
            "image/png": "[encoded data removed]"
          },
          "metadata": {
            "needs_background": "light"
          }
        }
      ]
    },
    {
      "cell_type": "code",
      "source": [
        "df['Year'].value_counts()"
      ],
      "metadata": {
        "colab": {
          "base_uri": "https://localhost:8080/"
        },
        "id": "UN15wCn3JFHi",
        "outputId": "ad13acea-6435-4a77-9b18-47359c367050"
      },
      "execution_count": 5,
      "outputs": [
        {
          "output_type": "execute_result",
          "data": {
            "text/plain": [
              "III    795\n",
              "II      73\n",
              "IV      20\n",
              "Name: Year, dtype: int64"
            ]
          },
          "metadata": {},
          "execution_count": 5
        }
      ]
    },
    {
      "cell_type": "code",
      "source": [
        "# which year members are participated more\n",
        "sns.displot(df['Year'])"
      ],
      "metadata": {
        "colab": {
          "base_uri": "https://localhost:8080/",
          "height": 386
        },
        "id": "trITMd7kJSmC",
        "outputId": "3464bcf4-ff1c-4982-f371-92a48592386b"
      },
      "execution_count": 6,
      "outputs": [
        {
          "output_type": "execute_result",
          "data": {
            "text/plain": [
              "<seaborn.axisgrid.FacetGrid at 0x7f10a50d7950>"
            ]
          },
          "metadata": {},
          "execution_count": 6
        },
        {
          "output_type": "display_data",
          "data": {
            "text/plain": [
              "<Figure size 360x360 with 1 Axes>"
            ],
            "image/png": "[encoded data removed]"
          },
          "metadata": {
            "needs_background": "light"
          }
        }
      ]
    },
    {
      "cell_type": "code",
      "source": [
        "df.groupby('Student Stream').size()"
      ],
      "metadata": {
        "id": "jCLLMRrfJwpM",
        "colab": {
          "base_uri": "https://localhost:8080/"
        },
        "outputId": "60e04ac7-d378-4aa0-e6ab-7f50c738c9ce"
      },
      "execution_count": 7,
      "outputs": [
        {
          "output_type": "execute_result",
          "data": {
            "text/plain": [
              "Student Stream\n",
              "Advanced Electronics and Communication Engineering                      1\n",
              "Artifical Intelligence and Machine Learning                            48\n",
              "Automobile Engineering                                                  2\n",
              "Civil  Engineering  Environment  and  Pollution Control                 2\n",
              "Civil (Construction)                                                   11\n",
              "Civil Engineering                                                      89\n",
              "Computer Engineering                                                   13\n",
              "Computer Science                                                       14\n",
              "Computer Science and Engineering                                      233\n",
              "Computer Science and Technology                                         5\n",
              "Digital Electronics and Communication Engineering                       1\n",
              "Electrical Engineering                                                  1\n",
              "Electrical and Electronics Engineering                                 42\n",
              "Electronics  and  Communication  Engineering (Industry Integrated)     33\n",
              "Electronics  and  Communication  Engineering (Microwaves)              10\n",
              "Electronics and Communication Engineering                             201\n",
              "Electronics and Communication Technology                                2\n",
              "Electronics and Communications Engineering                             40\n",
              "Electronics and Electrical Engineering                                  9\n",
              "Environment Planning                                                   16\n",
              "Information Engineering                                                 1\n",
              "Information Technology                                                 54\n",
              "Information Technology and Engineering                                  1\n",
              "Machine Engineering                                                     1\n",
              "Mechanical Engineering                                                 50\n",
              "Transport Planning                                                      5\n",
              "Urban Governance and Management                                         1\n",
              "Urban Planning                                                          2\n",
              "dtype: int64"
            ]
          },
          "metadata": {},
          "execution_count": 7
        }
      ]
    },
    {
      "cell_type": "code",
      "source": [
        "import matplotlib.pyplot as plt\n",
        "df['Student Stream'].value_counts().plot(kind='bar')"
      ],
      "metadata": {
        "colab": {
          "base_uri": "https://localhost:8080/",
          "height": 611
        },
        "id": "rI5LyzyvAhZz",
        "outputId": "48100a5e-da92-4841-edde-2a839401b083"
      },
      "execution_count": 8,
      "outputs": [
        {
          "output_type": "execute_result",
          "data": {
            "text/plain": [
              "<matplotlib.axes._subplots.AxesSubplot at 0x7f10a2362950>"
            ]
          },
          "metadata": {},
          "execution_count": 8
        },
        {
          "output_type": "display_data",
          "data": {
            "text/plain": [
              "<Figure size 432x288 with 1 Axes>"
            ],
            "image/png": "[encoded data removed]"
          },
          "metadata": {
            "needs_background": "light"
          }
        }
      ]
    },
    {
      "cell_type": "code",
      "source": [
        "df.groupby('Student Course').size()"
      ],
      "metadata": {
        "colab": {
          "base_uri": "https://localhost:8080/"
        },
        "id": "J95APDF7CcRB",
        "outputId": "5155a0ce-5f29-46d2-c22a-7f025f137876"
      },
      "execution_count": 9,
      "outputs": [
        {
          "output_type": "execute_result",
          "data": {
            "text/plain": [
              "Student Course\n",
              "B.Plan/B.Tech                  24\n",
              "B.Tech. / B.E.                463\n",
              "B.Tech. / B.E./ Equivalent    338\n",
              "Diploma In Engineering         63\n",
              "dtype: int64"
            ]
          },
          "metadata": {},
          "execution_count": 9
        }
      ]
    },
    {
      "cell_type": "code",
      "source": [
        "df.groupby('Tittle').size()"
      ],
      "metadata": {
        "colab": {
          "base_uri": "https://localhost:8080/"
        },
        "id": "JiguXYdzDPNm",
        "outputId": "fd6cf431-e303-4938-cac9-86f93a4af336"
      },
      "execution_count": 10,
      "outputs": [
        {
          "output_type": "execute_result",
          "data": {
            "text/plain": [
              "Tittle\n",
              "Cyber Security by Palo Alto    378\n",
              "Process Mining By Celonis      427\n",
              "RPA by Blue Prism               83\n",
              "dtype: int64"
            ]
          },
          "metadata": {},
          "execution_count": 10
        }
      ]
    },
    {
      "cell_type": "code",
      "source": [
        "import numpy as np\n",
        "x=np.sum((df['Student Course']=='B.Tech. / B.E.')&(df['Tittle']=='Cyber Security by Palo Alto'))\n",
        "x\n"
      ],
      "metadata": {
        "colab": {
          "base_uri": "https://localhost:8080/"
        },
        "id": "W6Vh74QGCIMs",
        "outputId": "aac74aae-f5bf-4ed5-f02b-ce2a077d9433"
      },
      "execution_count": 11,
      "outputs": [
        {
          "output_type": "execute_result",
          "data": {
            "text/plain": [
              "295"
            ]
          },
          "metadata": {},
          "execution_count": 11
        }
      ]
    },
    {
      "cell_type": "code",
      "source": [
        "y=np.sum((df['Student Course']=='B.Tech. / B.E./ Equivalent')&(df['Tittle']=='Cyber Security by Palo Alto'))\n",
        "y"
      ],
      "metadata": {
        "colab": {
          "base_uri": "https://localhost:8080/"
        },
        "id": "mweJFQRGEJN-",
        "outputId": "4aa6dd92-55ca-4ea2-df66-2a689972aedf"
      },
      "execution_count": 12,
      "outputs": [
        {
          "output_type": "execute_result",
          "data": {
            "text/plain": [
              "57"
            ]
          },
          "metadata": {},
          "execution_count": 12
        }
      ]
    },
    {
      "cell_type": "code",
      "source": [
        "df['Student Course'].value_counts().plot(kind='bar')"
      ],
      "metadata": {
        "colab": {
          "base_uri": "https://localhost:8080/",
          "height": 397
        },
        "id": "FCmZqcX3EMjP",
        "outputId": "f490e61d-59a5-41ef-9f91-d8b325d73607"
      },
      "execution_count": 13,
      "outputs": [
        {
          "output_type": "execute_result",
          "data": {
            "text/plain": [
              "<matplotlib.axes._subplots.AxesSubplot at 0x7f10a225af90>"
            ]
          },
          "metadata": {},
          "execution_count": 13
        },
        {
          "output_type": "display_data",
          "data": {
            "text/plain": [
              "<Figure size 432x288 with 1 Axes>"
            ],
            "image/png": "[encoded data removed]"
          },
          "metadata": {
            "needs_background": "light"
          }
        }
      ]
    },
    {
      "cell_type": "code",
      "source": [
        "z= np.sum((df['Student First Location']=='EAST GODAVARI') & (df['Year']=='II'))\n",
        "z"
      ],
      "metadata": {
        "id": "tR_CtwilFYO_",
        "colab": {
          "base_uri": "https://localhost:8080/"
        },
        "outputId": "497dcc21-3835-467a-de32-cf4508358cbb"
      },
      "execution_count": 14,
      "outputs": [
        {
          "output_type": "execute_result",
          "data": {
            "text/plain": [
              "46"
            ]
          },
          "metadata": {},
          "execution_count": 14
        }
      ]
    },
    {
      "cell_type": "code",
      "source": [
        "df['Student First Location'].value_counts().plot(kind='bar')"
      ],
      "metadata": {
        "colab": {
          "base_uri": "https://localhost:8080/",
          "height": 373
        },
        "id": "8i2Hzp3D4EPL",
        "outputId": "ae39db8e-431d-4968-ff18-96edafdbe965"
      },
      "execution_count": 15,
      "outputs": [
        {
          "output_type": "execute_result",
          "data": {
            "text/plain": [
              "<matplotlib.axes._subplots.AxesSubplot at 0x7f10a155b490>"
            ]
          },
          "metadata": {},
          "execution_count": 15
        },
        {
          "output_type": "display_data",
          "data": {
            "text/plain": [
              "<Figure size 432x288 with 1 Axes>"
            ],
            "image/png": "[encoded data removed]"
          },
          "metadata": {
            "needs_background": "light"
          }
        }
      ]
    },
    {
      "cell_type": "code",
      "source": [
        "df.head()"
      ],
      "metadata": {
        "colab": {
          "base_uri": "https://localhost:8080/",
          "height": 496
        },
        "id": "KV_kfCe44M9Q",
        "outputId": "f38c07d7-9733-4b6c-b85f-7674f7ab8992"
      },
      "execution_count": 17,
      "outputs": [
        {
          "output_type": "execute_result",
          "data": {
            "text/plain": [
              "   S.No Year Branch    Roll No                        Tittle  \\\n",
              "0     1   II    CSE  21A31A0503            RPA by Blue Prism   \n",
              "1     2   II    CSE  21A31A0512            RPA by Blue Prism   \n",
              "2     3   II    CSE  21A31A0513            RPA by Blue Prism   \n",
              "3     4   II    CSE  21A31A0518            RPA by Blue Prism   \n",
              "4     5   II    CSE  21A31A0519  Cyber Security by Palo Alto   \n",
              "\n",
              "             First Name Middle Name    Last Name              Student Course  \\\n",
              "0  VENKATA DURGA SOWMYA         NaN  BOGGAVARAPU  B.Tech. / B.E./ Equivalent   \n",
              "1             PRASANTHI         NaN    KANCHARLA               B.Plan/B.Tech   \n",
              "2          VENKATESWARI         NaN     KARNEEDI  B.Tech. / B.E./ Equivalent   \n",
              "3                 SATYA   TEJASWINI      KOVVURI  B.Tech. / B.E./ Equivalent   \n",
              "4            EVANGELINE         NaN      MADDELA              B.Tech. / B.E.   \n",
              "\n",
              "                     Student Stream  Unnamed: 10  Unnamed: 11 Student Caste  \\\n",
              "0  Computer Science and Engineering          NaN          NaN           EWS   \n",
              "1              Environment Planning          NaN          NaN           EWS   \n",
              "2  Computer Science and Engineering          NaN          NaN           EWS   \n",
              "3  Computer Science and Engineering          NaN          NaN           EWS   \n",
              "4  Computer Science and Engineering          NaN          NaN       GENERAL   \n",
              "\n",
              "  Student First Location Student Second Location Student Third Location  \\\n",
              "0          EAST GODAVARI                KAKINADA                    NaN   \n",
              "1          EAST GODAVARI                  GUNTUR             VIJAYAWADA   \n",
              "2          EAST GODAVARI           WEST GODAVARI                    NaN   \n",
              "3          EAST GODAVARI                KAKINADA                    NaN   \n",
              "4            RAJAHMUNDRY                KAKINADA          VISAKHAPATNAM   \n",
              "\n",
              "  Student Fourth Location  \n",
              "0                     NaN  \n",
              "1                KAKINADA  \n",
              "2                     NaN  \n",
              "3                     NaN  \n",
              "4              VIJAYAWADA  "
            ],
            "text/html": [
              "\n",
              "  <div id=\"df-dd218065-e270-4fce-8e61-bce20c5d4c3b\">\n",
              "    <div class=\"colab-df-container\">\n",
              "      <div>\n",
              "<style scoped>\n",
              "    .dataframe tbody tr th:only-of-type {\n",
              "        vertical-align: middle;\n",
              "    }\n",
              "\n",
              "    .dataframe tbody tr th {\n",
              "        vertical-align: top;\n",
              "    }\n",
              "\n",
              "    .dataframe thead th {\n",
              "        text-align: right;\n",
              "    }\n",
              "</style>\n",
              "<table border=\"1\" class=\"dataframe\">\n",
              "  <thead>\n",
              "    <tr style=\"text-align: right;\">\n",
              "      <th></th>\n",
              "      <th>S.No</th>\n",
              "      <th>Year</th>\n",
              "      <th>Branch</th>\n",
              "      <th>Roll No</th>\n",
              "      <th>Tittle</th>\n",
              "      <th>First Name</th>\n",
              "      <th>Middle Name</th>\n",
              "      <th>Last Name</th>\n",
              "      <th>Student Course</th>\n",
              "      <th>Student Stream</th>\n",
              "      <th>Unnamed: 10</th>\n",
              "      <th>Unnamed: 11</th>\n",
              "      <th>Student Caste</th>\n",
              "      <th>Student First Location</th>\n",
              "      <th>Student Second Location</th>\n",
              "      <th>Student Third Location</th>\n",
              "      <th>Student Fourth Location</th>\n",
              "    </tr>\n",
              "  </thead>\n",
              "  <tbody>\n",
              "    <tr>\n",
              "      <th>0</th>\n",
              "      <td>1</td>\n",
              "      <td>II</td>\n",
              "      <td>CSE</td>\n",
              "      <td>21A31A0503</td>\n",
              "      <td>RPA by Blue Prism</td>\n",
              "      <td>VENKATA DURGA SOWMYA</td>\n",
              "      <td>NaN</td>\n",
              "      <td>BOGGAVARAPU</td>\n",
              "      <td>B.Tech. / B.E./ Equivalent</td>\n",
              "      <td>Computer Science and Engineering</td>\n",
              "      <td>NaN</td>\n",
              "      <td>NaN</td>\n",
              "      <td>EWS</td>\n",
              "      <td>EAST GODAVARI</td>\n",
              "      <td>KAKINADA</td>\n",
              "      <td>NaN</td>\n",
              "      <td>NaN</td>\n",
              "    </tr>\n",
              "    <tr>\n",
              "      <th>1</th>\n",
              "      <td>2</td>\n",
              "      <td>II</td>\n",
              "      <td>CSE</td>\n",
              "      <td>21A31A0512</td>\n",
              "      <td>RPA by Blue Prism</td>\n",
              "      <td>PRASANTHI</td>\n",
              "      <td>NaN</td>\n",
              "      <td>KANCHARLA</td>\n",
              "      <td>B.Plan/B.Tech</td>\n",
              "      <td>Environment Planning</td>\n",
              "      <td>NaN</td>\n",
              "      <td>NaN</td>\n",
              "      <td>EWS</td>\n",
              "      <td>EAST GODAVARI</td>\n",
              "      <td>GUNTUR</td>\n",
              "      <td>VIJAYAWADA</td>\n",
              "      <td>KAKINADA</td>\n",
              "    </tr>\n",
              "    <tr>\n",
              "      <th>2</th>\n",
              "      <td>3</td>\n",
              "      <td>II</td>\n",
              "      <td>CSE</td>\n",
              "      <td>21A31A0513</td>\n",
              "      <td>RPA by Blue Prism</td>\n",
              "      <td>VENKATESWARI</td>\n",
              "      <td>NaN</td>\n",
              "      <td>KARNEEDI</td>\n",
              "      <td>B.Tech. / B.E./ Equivalent</td>\n",
              "      <td>Computer Science and Engineering</td>\n",
              "      <td>NaN</td>\n",
              "      <td>NaN</td>\n",
              "      <td>EWS</td>\n",
              "      <td>EAST GODAVARI</td>\n",
              "      <td>WEST GODAVARI</td>\n",
              "      <td>NaN</td>\n",
              "      <td>NaN</td>\n",
              "    </tr>\n",
              "    <tr>\n",
              "      <th>3</th>\n",
              "      <td>4</td>\n",
              "      <td>II</td>\n",
              "      <td>CSE</td>\n",
              "      <td>21A31A0518</td>\n",
              "      <td>RPA by Blue Prism</td>\n",
              "      <td>SATYA</td>\n",
              "      <td>TEJASWINI</td>\n",
              "      <td>KOVVURI</td>\n",
              "      <td>B.Tech. / B.E./ Equivalent</td>\n",
              "      <td>Computer Science and Engineering</td>\n",
              "      <td>NaN</td>\n",
              "      <td>NaN</td>\n",
              "      <td>EWS</td>\n",
              "      <td>EAST GODAVARI</td>\n",
              "      <td>KAKINADA</td>\n",
              "      <td>NaN</td>\n",
              "      <td>NaN</td>\n",
              "    </tr>\n",
              "    <tr>\n",
              "      <th>4</th>\n",
              "      <td>5</td>\n",
              "      <td>II</td>\n",
              "      <td>CSE</td>\n",
              "      <td>21A31A0519</td>\n",
              "      <td>Cyber Security by Palo Alto</td>\n",
              "      <td>EVANGELINE</td>\n",
              "      <td>NaN</td>\n",
              "      <td>MADDELA</td>\n",
              "      <td>B.Tech. / B.E.</td>\n",
              "      <td>Computer Science and Engineering</td>\n",
              "      <td>NaN</td>\n",
              "      <td>NaN</td>\n",
              "      <td>GENERAL</td>\n",
              "      <td>RAJAHMUNDRY</td>\n",
              "      <td>KAKINADA</td>\n",
              "      <td>VISAKHAPATNAM</td>\n",
              "      <td>VIJAYAWADA</td>\n",
              "    </tr>\n",
              "  </tbody>\n",
              "</table>\n",
              "</div>\n",
              "      <button class=\"colab-df-convert\" onclick=\"convertToInteractive('df-dd218065-e270-4fce-8e61-bce20c5d4c3b')\"\n",
              "              title=\"Convert this dataframe to an interactive table.\"\n",
              "              style=\"display:none;\">\n",
              "        \n",
              "  <svg xmlns=\"http://www.w3.org/2000/svg\" height=\"24px\"viewBox=\"0 0 24 24\"\n",
              "       width=\"24px\">\n",
              "    <path d=\"M0 0h24v24H0V0z\" fill=\"none\"/>\n",
              "    <path d=\"M18.56 5.44l.94 2.06.94-2.06 2.06-.94-2.06-.94-.94-2.06-.94 2.06-2.06.94zm-11 1L8.5 8.5l.94-2.06 2.06-.94-2.06-.94L8.5 2.5l-.94 2.06-2.06.94zm10 10l.94 2.06.94-2.06 2.06-.94-2.06-.94-.94-2.06-.94 2.06-2.06.94z\"/><path d=\"M17.41 7.96l-1.37-1.37c-.4-.4-.92-.59-1.43-.59-.52 0-1.04.2-1.43.59L10.3 9.45l-7.72 7.72c-.78.78-.78 2.05 0 2.83L4 21.41c.39.39.9.59 1.41.59.51 0 1.02-.2 1.41-.59l7.78-7.78 2.81-2.81c.8-.78.8-2.07 0-2.86zM5.41 20L4 18.59l7.72-7.72 1.47 1.35L5.41 20z\"/>\n",
              "  </svg>\n",
              "      </button>\n",
              "      \n",
              "  <style>\n",
              "    .colab-df-container {\n",
              "      display:flex;\n",
              "      flex-wrap:wrap;\n",
              "      gap: 12px;\n",
              "    }\n",
              "\n",
              "    .colab-df-convert {\n",
              "      background-color: #E8F0FE;\n",
              "      border: none;\n",
              "      border-radius: 50%;\n",
              "      cursor: pointer;\n",
              "      display: none;\n",
              "      fill: #1967D2;\n",
              "      height: 32px;\n",
              "      padding: 0 0 0 0;\n",
              "      width: 32px;\n",
              "    }\n",
              "\n",
              "    .colab-df-convert:hover {\n",
              "      background-color: #E2EBFA;\n",
              "      box-shadow: 0px 1px 2px rgba(60, 64, 67, 0.3), 0px 1px 3px 1px rgba(60, 64, 67, 0.15);\n",
              "      fill: #174EA6;\n",
              "    }\n",
              "\n",
              "    [theme=dark] .colab-df-convert {\n",
              "      background-color: #3B4455;\n",
              "      fill: #D2E3FC;\n",
              "    }\n",
              "\n",
              "    [theme=dark] .colab-df-convert:hover {\n",
              "      background-color: #434B5C;\n",
              "      box-shadow: 0px 1px 3px 1px rgba(0, 0, 0, 0.15);\n",
              "      filter: drop-shadow(0px 1px 2px rgba(0, 0, 0, 0.3));\n",
              "      fill: #FFFFFF;\n",
              "    }\n",
              "  </style>\n",
              "\n",
              "      <script>\n",
              "        const buttonEl =\n",
              "          document.querySelector('#df-dd218065-e270-4fce-8e61-bce20c5d4c3b button.colab-df-convert');\n",
              "        buttonEl.style.display =\n",
              "          google.colab.kernel.accessAllowed ? 'block' : 'none';\n",
              "\n",
              "        async function convertToInteractive(key) {\n",
              "          const element = document.querySelector('#df-dd218065-e270-4fce-8e61-bce20c5d4c3b');\n",
              "          const dataTable =\n",
              "            await google.colab.kernel.invokeFunction('convertToInteractive',\n",
              "                                                     [key], {});\n",
              "          if (!dataTable) return;\n",
              "\n",
              "          const docLinkHtml = 'Like what you see? Visit the ' +\n",
              "            '<a target=\"_blank\" href=https://colab.research.google.com/notebooks/data_table.ipynb>data table notebook</a>'\n",
              "            + ' to learn more about interactive tables.';\n",
              "          element.innerHTML = '';\n",
              "          dataTable['output_type'] = 'display_data';\n",
              "          await google.colab.output.renderOutput(dataTable, element);\n",
              "          const docLink = document.createElement('div');\n",
              "          docLink.innerHTML = docLinkHtml;\n",
              "          element.appendChild(docLink);\n",
              "        }\n",
              "      </script>\n",
              "    </div>\n",
              "  </div>\n",
              "  "
            ]
          },
          "metadata": {},
          "execution_count": 17
        }
      ]
    },
    {
      "cell_type": "code",
      "source": [
        "df['Student Caste'].value_counts().plot(kind = 'bar')"
      ],
      "metadata": {
        "colab": {
          "base_uri": "https://localhost:8080/",
          "height": 319
        },
        "id": "k5jJ26OY4lLf",
        "outputId": "88ad9183-71eb-413c-bc73-4e43c2e95284"
      },
      "execution_count": 18,
      "outputs": [
        {
          "output_type": "execute_result",
          "data": {
            "text/plain": [
              "<matplotlib.axes._subplots.AxesSubplot at 0x7f10a0f39650>"
            ]
          },
          "metadata": {},
          "execution_count": 18
        },
        {
          "output_type": "display_data",
          "data": {
            "text/plain": [
              "<Figure size 432x288 with 1 Axes>"
            ],
            "image/png": "[encoded data removed]"
          },
          "metadata": {
            "needs_background": "light"
          }
        }
      ]
    },
    {
      "cell_type": "code",
      "source": [
        "df.groupby('Student Caste').size()"
      ],
      "metadata": {
        "colab": {
          "base_uri": "https://localhost:8080/"
        },
        "id": "R9aMidOR42tp",
        "outputId": "e816e940-ebd9-4c46-a641-b669452b11a9"
      },
      "execution_count": 19,
      "outputs": [
        {
          "output_type": "execute_result",
          "data": {
            "text/plain": [
              "Student Caste\n",
              "EWS        116\n",
              "GENERAL    296\n",
              "OBC        303\n",
              "SC          94\n",
              "ST           8\n",
              "dtype: int64"
            ]
          },
          "metadata": {},
          "execution_count": 19
        }
      ]
    },
    {
      "cell_type": "code",
      "source": [
        "df['Branch'].value_counts().plot(kind='bar')"
      ],
      "metadata": {
        "colab": {
          "base_uri": "https://localhost:8080/",
          "height": 334
        },
        "id": "KMow9iwG4-kg",
        "outputId": "6f0dcf82-7a4b-455a-fd5b-71f408f91dc2"
      },
      "execution_count": 25,
      "outputs": [
        {
          "output_type": "execute_result",
          "data": {
            "text/plain": [
              "<matplotlib.axes._subplots.AxesSubplot at 0x7f10a0605f50>"
            ]
          },
          "metadata": {},
          "execution_count": 25
        },
        {
          "output_type": "display_data",
          "data": {
            "text/plain": [
              "<Figure size 432x288 with 1 Axes>"
            ],
            "image/png": "[encoded data removed]"
          },
          "metadata": {
            "needs_background": "light"
          }
        }
      ]
    },
    {
      "cell_type": "code",
      "source": [
        "df['Branch'].value_counts()"
      ],
      "metadata": {
        "colab": {
          "base_uri": "https://localhost:8080/"
        },
        "id": "fUVhdROO7WDO",
        "outputId": "6ed39528-e7c2-4601-adfb-d71718af0f94"
      },
      "execution_count": 28,
      "outputs": [
        {
          "output_type": "execute_result",
          "data": {
            "text/plain": [
              "ECE            298\n",
              "CSE            219\n",
              "Civil          114\n",
              "CSE (AI&ML)     78\n",
              "IT              60\n",
              "Mech            57\n",
              "EEE             49\n",
              "CSE (AI)         8\n",
              "CSE (DS)         5\n",
              "Name: Branch, dtype: int64"
            ]
          },
          "metadata": {},
          "execution_count": 28
        }
      ]
    }
  ]
}